{
 "cells": [
  {
   "cell_type": "code",
   "execution_count": 1,
   "id": "3e3cbaa3",
   "metadata": {
    "scrolled": true
   },
   "outputs": [
    {
     "name": "stdout",
     "output_type": "stream",
     "text": [
      "Requirement already satisfied: pandas in c:\\users\\vedant merai\\anaconda3\\lib\\site-packages (1.3.4)\n",
      "Requirement already satisfied: pytz>=2017.3 in c:\\users\\vedant merai\\anaconda3\\lib\\site-packages (from pandas) (2021.3)\n",
      "Requirement already satisfied: numpy>=1.17.3 in c:\\users\\vedant merai\\anaconda3\\lib\\site-packages (from pandas) (1.20.3)\n",
      "Requirement already satisfied: python-dateutil>=2.7.3 in c:\\users\\vedant merai\\anaconda3\\lib\\site-packages (from pandas) (2.8.2)\n",
      "Requirement already satisfied: six>=1.5 in c:\\users\\vedant merai\\anaconda3\\lib\\site-packages (from python-dateutil>=2.7.3->pandas) (1.16.0)\n",
      "Note: you may need to restart the kernel to use updated packages.\n"
     ]
    }
   ],
   "source": [
    "pip install pandas"
   ]
  },
  {
   "cell_type": "code",
   "execution_count": 8,
   "id": "6485072e",
   "metadata": {},
   "outputs": [
    {
     "name": "stdout",
     "output_type": "stream",
     "text": [
      "      Unnamed: 0  CustomerID  Frequency  Recency  Monetary  rankR  rankF  \\\n",
      "0              1       12346          2      358      2.08      2      1   \n",
      "1              2       12347        182       35    481.21      5      4   \n",
      "2              3       12348         31      108    178.71      5      1   \n",
      "3              4       12349         73       51    605.10      5      2   \n",
      "4              5       12350         17      343     65.30      2      1   \n",
      "...          ...         ...        ...      ...       ...    ...    ...   \n",
      "4375        4376       18280         10      310     47.65      2      1   \n",
      "4376        4377       18281          7      213     39.36      3      1   \n",
      "4377        4378       18282         13       40     62.68      5      1   \n",
      "4378        4379       18283        756       36   1220.93      5      5   \n",
      "4379        4380       18287         70       75    104.55      5      2   \n",
      "\n",
      "      rankM  groupRFM         Country  \n",
      "0         1       211  United Kingdom  \n",
      "1         3       543         Iceland  \n",
      "2         2       512         Finland  \n",
      "3         4       524           Italy  \n",
      "4         1       211          Norway  \n",
      "...     ...       ...             ...  \n",
      "4375      1       211  United Kingdom  \n",
      "4376      1       311  United Kingdom  \n",
      "4377      1       511  United Kingdom  \n",
      "4378      5       555  United Kingdom  \n",
      "4379      1       521  United Kingdom  \n",
      "\n",
      "[4380 rows x 10 columns]\n"
     ]
    }
   ],
   "source": [
    "import pandas as pd\n",
    "from sklearn.cluster import KMeans\n",
    "from sklearn.preprocessing import StandardScaler\n",
    "\n",
    "# Load the customer data\n",
    "customer_data = pd.read_csv('ecom_data_rfm.csv')\n",
    "print (customer_data)"
   ]
  },
  {
   "cell_type": "code",
   "execution_count": 9,
   "id": "7b218069",
   "metadata": {},
   "outputs": [
    {
     "name": "stdout",
     "output_type": "stream",
     "text": [
      "      Unnamed: 0  CustomerID  Frequency  Recency  Monetary  rankR  rankF  \\\n",
      "0              1       12346          2      358      2.08      2      1   \n",
      "1              2       12347        182       35    481.21      5      4   \n",
      "2              3       12348         31      108    178.71      5      1   \n",
      "3              4       12349         73       51    605.10      5      2   \n",
      "4              5       12350         17      343     65.30      2      1   \n",
      "...          ...         ...        ...      ...       ...    ...    ...   \n",
      "4375        4376       18280         10      310     47.65      2      1   \n",
      "4376        4377       18281          7      213     39.36      3      1   \n",
      "4377        4378       18282         13       40     62.68      5      1   \n",
      "4378        4379       18283        756       36   1220.93      5      5   \n",
      "4379        4380       18287         70       75    104.55      5      2   \n",
      "\n",
      "      rankM  groupRFM  \n",
      "0         1       211  \n",
      "1         3       543  \n",
      "2         2       512  \n",
      "3         4       524  \n",
      "4         1       211  \n",
      "...     ...       ...  \n",
      "4375      1       211  \n",
      "4376      1       311  \n",
      "4377      1       511  \n",
      "4378      5       555  \n",
      "4379      1       521  \n",
      "\n",
      "[4380 rows x 9 columns]\n"
     ]
    }
   ],
   "source": [
    "# Exclude non-numeric columns\n",
    "numeric_data = customer_data.drop('Country', axis=1)\n",
    "print (numeric_data)"
   ]
  },
  {
   "cell_type": "code",
   "execution_count": 10,
   "id": "d1c87bd5",
   "metadata": {},
   "outputs": [
    {
     "name": "stdout",
     "output_type": "stream",
     "text": [
      "[[-1.73165541 -1.70922721 -0.39221824 ... -0.65674015 -0.67593529\n",
      "  -1.99655229]\n",
      " [-1.73086452 -1.7086475   0.38279112 ...  1.70493626  0.852509\n",
      "   0.79210148]\n",
      " [-1.73007363 -1.70806779 -0.26735562 ... -0.65674015  0.08828685\n",
      "   0.53171513]\n",
      " ...\n",
      " [ 1.73007363  1.73192693 -0.34485656 ... -0.65674015 -0.67593529\n",
      "   0.52331557]\n",
      " [ 1.73086452  1.73250664  2.85420989 ...  2.49216174  2.38095328\n",
      "   0.89289619]\n",
      " [ 1.73165541  1.73482547 -0.09943693 ...  0.13048532 -0.67593529\n",
      "   0.60731117]]\n"
     ]
    }
   ],
   "source": [
    "# Standardize the features\n",
    "scaler = StandardScaler()\n",
    "scaled_data = scaler.fit_transform(numeric_data)\n",
    "print (scaled_data)"
   ]
  },
  {
   "cell_type": "code",
   "execution_count": 11,
   "id": "9c16c87c",
   "metadata": {},
   "outputs": [
    {
     "data": {
      "image/png": "[encoded data removed]",
      "text/plain": [
       "<Figure size 432x288 with 1 Axes>"
      ]
     },
     "metadata": {
      "needs_background": "light"
     },
     "output_type": "display_data"
    }
   ],
   "source": [
    "# Determine the optimal number of clusters (k) using the elbow method\n",
    "sse = []\n",
    "for k in range(1, 11):\n",
    "    kmeans = KMeans(n_clusters=k, random_state=42)\n",
    "    kmeans.fit(scaled_data)\n",
    "    sse.append(kmeans.inertia_)\n",
    "\n",
    "# Plot the elbow curve\n",
    "import matplotlib.pyplot as plt\n",
    "\n",
    "plt.plot(range(1, 11), sse)\n",
    "plt.xlabel('Number of Clusters (k)')\n",
    "plt.ylabel('Sum of Squared Errors (SSE)')\n",
    "plt.title('Elbow Curve')\n",
    "plt.show()"
   ]
  },
  {
   "cell_type": "code",
   "execution_count": 19,
   "id": "546fcc2b",
   "metadata": {},
   "outputs": [
    {
     "data": {
      "image/png": "[encoded data removed]",
      "text/plain": [
       "<Figure size 432x288 with 1 Axes>"
      ]
     },
     "metadata": {
      "needs_background": "light"
     },
     "output_type": "display_data"
    }
   ],
   "source": [
    "# Based on the elbow curve,\n",
    "k = 5\n",
    "\n",
    "# Build the K-means model\n",
    "kmeans = KMeans(n_clusters=k, random_state=42)\n",
    "kmeans.fit(scaled_data)\n",
    "\n",
    "# Assign clusters to the data points\n",
    "customer_data['Cluster'] = kmeans.labels_\n",
    "\n",
    "#frequency and monetary\n",
    "plt.scatter(customer_data['Frequency'], customer_data['Monetary'], \n",
    "            c=customer_data['Cluster'], cmap='viridis')\n",
    "plt.xlabel('Frequency')\n",
    "plt.ylabel('Monetary')\n",
    "plt.title('Customer Segmentation')\n",
    "plt.show()"
   ]
  },
  {
   "cell_type": "code",
   "execution_count": 20,
   "id": "5e3098db",
   "metadata": {},
   "outputs": [
    {
     "data": {
      "image/png": "[encoded data removed]",
      "text/plain": [
       "<Figure size 432x288 with 1 Axes>"
      ]
     },
     "metadata": {
      "needs_background": "light"
     },
     "output_type": "display_data"
    }
   ],
   "source": [
    "#recency and monetary\n",
    "plt.scatter(customer_data['Recency'], customer_data['Monetary'],\n",
    "            c=customer_data['Cluster'], cmap='viridis')\n",
    "plt.xlabel('Recency')\n",
    "plt.ylabel('Monetary')\n",
    "plt.title('Customer Segmentation')\n",
    "plt.show()"
   ]
  },
  {
   "cell_type": "code",
   "execution_count": 21,
   "id": "327cf07f",
   "metadata": {},
   "outputs": [
    {
     "data": {
      "image/png": "[encoded data removed]",
      "text/plain": [
       "<Figure size 432x288 with 1 Axes>"
      ]
     },
     "metadata": {
      "needs_background": "light"
     },
     "output_type": "display_data"
    }
   ],
   "source": [
    "#frequency and recency\n",
    "plt.scatter(customer_data['Frequency'], customer_data['Recency'], \n",
    "            c=customer_data['Cluster'], cmap='viridis')\n",
    "plt.xlabel('Frequency')\n",
    "plt.ylabel('Recency')\n",
    "plt.title('Customer Segmentation')\n",
    "plt.show()"
   ]
  },
  {
   "cell_type": "code",
   "execution_count": 33,
   "id": "801f60b1",
   "metadata": {},
   "outputs": [
    {
     "name": "stdout",
     "output_type": "stream",
     "text": [
      "Cluster 1 Profile:\n",
      "Unnamed: 0     3315.389374\n",
      "CustomerID    16827.070597\n",
      "Frequency        53.114993\n",
      "Recency          83.290393\n",
      "Monetary        162.646333\n",
      "rankR             4.796215\n",
      "rankF             1.482533\n",
      "rankM             1.490539\n",
      "groupRFM        495.937409\n",
      "Name: 0, dtype: float64\n",
      "\n",
      "\n",
      "Cluster 2 Profile:\n",
      "Unnamed: 0     1080.330920\n",
      "CustomerID    13781.734251\n",
      "Frequency        51.012310\n",
      "Recency          83.708907\n",
      "Monetary        155.994476\n",
      "rankR             4.790007\n",
      "rankF             1.433020\n",
      "rankM             1.479363\n",
      "groupRFM        494.810282\n",
      "Name: 1, dtype: float64\n",
      "\n",
      "\n",
      "Cluster 3 Profile:\n",
      "Unnamed: 0     2233.239617\n",
      "CustomerID    15352.736954\n",
      "Frequency        25.608094\n",
      "Recency         295.091587\n",
      "Monetary         93.925837\n",
      "rankR             2.308839\n",
      "rankF             1.121406\n",
      "rankM             1.189563\n",
      "groupRFM        243.287540\n",
      "Name: 2, dtype: float64\n",
      "\n",
      "\n",
      "Cluster 4 Profile:\n",
      "Unnamed: 0     2116.920471\n",
      "CustomerID    15194.269514\n",
      "Frequency       318.287187\n",
      "Recency          55.490427\n",
      "Monetary       1011.762386\n",
      "rankR             4.949926\n",
      "rankF             4.322533\n",
      "rankM             4.434462\n",
      "groupRFM        542.652430\n",
      "Name: 3, dtype: float64\n",
      "\n",
      "\n",
      "Cluster 5 Profile:\n",
      "Unnamed: 0     1815.285714\n",
      "CustomerID    14781.000000\n",
      "Frequency      3452.000000\n",
      "Recency          72.571429\n",
      "Monetary      28197.814286\n",
      "rankR             4.714286\n",
      "rankF             4.285714\n",
      "rankM             5.000000\n",
      "groupRFM        519.285714\n",
      "Name: 4, dtype: float64\n",
      "\n",
      "\n"
     ]
    }
   ],
   "source": [
    "# Analyze the characteristics of each cluster\n",
    "cluster_profiles = customer_data.groupby('Cluster').mean()\n",
    "\n",
    "# Print the profile of each cluster\n",
    "for cluster in range(k):\n",
    "    print(f\"Cluster {cluster + 1} Profile:\")\n",
    "    print(cluster_profiles.loc[cluster])\n",
    "    print('\\n')"
   ]
  },
  {
   "cell_type": "code",
   "execution_count": 31,
   "id": "fce8f265",
   "metadata": {},
   "outputs": [
    {
     "name": "stdout",
     "output_type": "stream",
     "text": [
      "Predicted Clusters:\n",
      "[3 3 3]\n"
     ]
    }
   ],
   "source": [
    "new_data = pd.DataFrame({\n",
    "    '': [0,0,0],\n",
    "    'Frequency': [10, 5, 8],\n",
    "    'Recency': [20, 30, 15],\n",
    "    'Monetary': [100, 50, 80],\n",
    "    'rankR': [2, 3, 1],\n",
    "    'rankF': [1, 2, 3],\n",
    "    'rankM': [3, 2, 1],\n",
    "    'groupRFM': ['100', '200', '300'],\n",
    "    'country': ['0', '1', '0']\n",
    "})\n",
    "\n",
    "\n",
    "# Standardize the new data using the same scaler\n",
    "scaled_new_data = scaler.transform(new_data)\n",
    "\n",
    "# Predict the cluster labels for the new data\n",
    "predicted_clusters = kmeans.predict(scaled_new_data)\n",
    "\n",
    "# Print the predicted clusters for the new data\n",
    "print(\"Predicted Clusters:\")\n",
    "print(predicted_clusters)"
   ]
  },
  {
   "cell_type": "code",
   "execution_count": 34,
   "id": "a1b0edf2",
   "metadata": {},
   "outputs": [
    {
     "name": "stdout",
     "output_type": "stream",
     "text": [
      "Cluster 1 Profile:\n",
      "Unnamed: 0     3315.389374\n",
      "CustomerID    16827.070597\n",
      "Frequency        53.114993\n",
      "Recency          83.290393\n",
      "Monetary        162.646333\n",
      "rankR             4.796215\n",
      "rankF             1.482533\n",
      "rankM             1.490539\n",
      "groupRFM        495.937409\n",
      "Name: 0, dtype: float64\n",
      "\n",
      "\n",
      "Cluster 2 Profile:\n",
      "Unnamed: 0     1080.330920\n",
      "CustomerID    13781.734251\n",
      "Frequency        51.012310\n",
      "Recency          83.708907\n",
      "Monetary        155.994476\n",
      "rankR             4.790007\n",
      "rankF             1.433020\n",
      "rankM             1.479363\n",
      "groupRFM        494.810282\n",
      "Name: 1, dtype: float64\n",
      "\n",
      "\n",
      "Cluster 3 Profile:\n",
      "Unnamed: 0     2233.239617\n",
      "CustomerID    15352.736954\n",
      "Frequency        25.608094\n",
      "Recency         295.091587\n",
      "Monetary         93.925837\n",
      "rankR             2.308839\n",
      "rankF             1.121406\n",
      "rankM             1.189563\n",
      "groupRFM        243.287540\n",
      "Name: 2, dtype: float64\n",
      "\n",
      "\n",
      "Cluster 4 Profile:\n",
      "Unnamed: 0     2116.920471\n",
      "CustomerID    15194.269514\n",
      "Frequency       318.287187\n",
      "Recency          55.490427\n",
      "Monetary       1011.762386\n",
      "rankR             4.949926\n",
      "rankF             4.322533\n",
      "rankM             4.434462\n",
      "groupRFM        542.652430\n",
      "Name: 3, dtype: float64\n",
      "\n",
      "\n",
      "Cluster 5 Profile:\n",
      "Unnamed: 0     1815.285714\n",
      "CustomerID    14781.000000\n",
      "Frequency      3452.000000\n",
      "Recency          72.571429\n",
      "Monetary      28197.814286\n",
      "rankR             4.714286\n",
      "rankF             4.285714\n",
      "rankM             5.000000\n",
      "groupRFM        519.285714\n",
      "Name: 4, dtype: float64\n",
      "\n",
      "\n",
      "Cluster 1: 1381 customers\n",
      "Cluster 0: 1374 customers\n",
      "Cluster 2: 939 customers\n",
      "Cluster 3: 679 customers\n",
      "Cluster 4: 7 customers\n"
     ]
    }
   ],
   "source": [
    "# Analyze the characteristics of each cluster\n",
    "cluster_profiles = customer_data.groupby('Cluster').mean()\n",
    "\n",
    "# Print the profile of each cluster\n",
    "for cluster in range(k):\n",
    "    print(f\"Cluster {cluster + 1} Profile:\")\n",
    "    print(cluster_profiles.loc[cluster])\n",
    "    print('\\n')\n",
    "\n",
    "# Find the number of customers in each cluster group\n",
    "customer_counts = customer_data['Cluster'].value_counts()\n",
    "\n",
    "# Print the number of customers in each cluster\n",
    "for cluster, count in customer_counts.items():\n",
    "    print(f\"Cluster {cluster}: {count} customers\")\n"
   ]
  },
  {
   "cell_type": "code",
   "execution_count": null,
   "id": "8cf1c8e8",
   "metadata": {},
   "outputs": [],
   "source": []
  }
 ],
 "metadata": {
  "kernelspec": {
   "display_name": "Python 3 (ipykernel)",
   "language": "python",
   "name": "python3"
  },
  "language_info": {
   "codemirror_mode": {
    "name": "ipython",
    "version": 3
   },
   "file_extension": ".py",
   "mimetype": "text/x-python",
   "name": "python",
   "nbconvert_exporter": "python",
   "pygments_lexer": "ipython3",
   "version": "3.9.7"
  }
 },
 "nbformat": 4,
 "nbformat_minor": 5
}
